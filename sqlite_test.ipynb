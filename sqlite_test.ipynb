{
 "cells": [
  {
   "cell_type": "code",
   "execution_count": 10,
   "metadata": {},
   "outputs": [],
   "source": [
    "# !pip install sqlite3\n",
    "# !pip install time\n",
    "# !pip install psutil\n",
    "# !pip install os\n",
    "# !pip install faker"
   ]
  },
  {
   "cell_type": "code",
   "execution_count": 13,
   "metadata": {},
   "outputs": [],
   "source": [
    "import sqlite3\n",
    "import time\n",
    "import random\n",
    "import psutil\n",
    "import os\n",
    "from faker import Faker\n",
    "fake = Faker(\"pt_br\")"
   ]
  },
  {
   "cell_type": "code",
   "execution_count": 19,
   "metadata": {},
   "outputs": [],
   "source": [
    "# Função para monitorar memória e CPU\n",
    "def monitorar_recursos():\n",
    "    processo = psutil.Process(os.getpid())\n",
    "    memoria = processo.memory_info().rss / (1024 * 1024)  # Memória em MB\n",
    "    cpu = psutil.cpu_percent(interval=1)  # Uso de CPU em %\n",
    "    return memoria, cpu\n",
    "\n",
    "# Função para medir tempo de execução\n",
    "def medir_tempo(func):\n",
    "    def wrapper(*args, **kwargs):\n",
    "        inicio = time.time()\n",
    "        resultado = func(*args, **kwargs)\n",
    "        fim = time.time()\n",
    "        tempo_total = fim - inicio\n",
    "        memoria, cpu = monitorar_recursos()\n",
    "        print(f\"Tempo de execução: {tempo_total:.2f}s | Memória usada: {memoria:.2f}MB | CPU usada: {cpu}%\")\n",
    "        return resultado\n",
    "    return wrapper\n",
    "\n",
    "# Contar registros \n",
    "def contar_registros(conexao):\n",
    "    cursor = conexao.cursor()\n",
    "    cursor.execute(\"SELECT COUNT(*) FROM teste;\")\n",
    "    resultado = cursor.fetchone()\n",
    "    print(f\"Total de registros: {resultado[0]}\")\n",
    "\n"
   ]
  },
  {
   "cell_type": "code",
   "execution_count": 6,
   "metadata": {},
   "outputs": [
    {
     "name": "stdout",
     "output_type": "stream",
     "text": [
      "Banco de dados 'sqlite_database.bd' criado.\n",
      "Tabela 'teste' criada com sucesso.\n"
     ]
    }
   ],
   "source": [
    "nome_banco = \"sqlite_database.bd\"\n",
    "conexao = sqlite3.connect(nome_banco)\n",
    "print(f\"Banco de dados '{nome_banco}' criado.\")\n",
    "cursor = conexao.cursor()\n",
    "cursor.execute(\n",
    "    \"\"\"\n",
    "    CREATE TABLE IF NOT EXISTS teste (\n",
    "        id INTEGER PRIMARY KEY AUTOINCREMENT,\n",
    "        nome TEXT,\n",
    "        valor INTEGER\n",
    "    );\n",
    "\"\"\"\n",
    ")\n",
    "conexao.commit()\n",
    "print(\"Tabela 'teste' criada com sucesso.\")"
   ]
  },
  {
   "cell_type": "code",
   "execution_count": 16,
   "metadata": {},
   "outputs": [],
   "source": [
    "def inserir_dados(conexao, num_registros):\n",
    "    cursor = conexao.cursor()\n",
    "    print(f\"Inserindo {num_registros} registros...\")\n",
    "    cursor.execute(\"BEGIN TRANSACTION;\")\n",
    "    for _ in range(num_registros):\n",
    "        nome = fake.name()\n",
    "        valor = random.randint(1, 1000000)\n",
    "        cursor.execute(\"INSERT INTO teste (nome, valor) VALUES (?, ?)\", (nome, valor))\n",
    "    conexao.commit()\n",
    "    print(f\"{num_registros} registros inseridos com sucesso.\")"
   ]
  },
  {
   "cell_type": "code",
   "execution_count": 21,
   "metadata": {},
   "outputs": [
    {
     "name": "stdout",
     "output_type": "stream",
     "text": [
      "Inserindo 100000 registros...\n",
      "100000 registros inseridos com sucesso.\n"
     ]
    }
   ],
   "source": [
    "# Testando o script\n",
    "inserir_dados(conexao, num_registros=100000)  # Altere o valor aqui para testar o limite\n",
    "conexao.close()"
   ]
  },
  {
   "cell_type": "code",
   "execution_count": 23,
   "metadata": {},
   "outputs": [
    {
     "name": "stdout",
     "output_type": "stream",
     "text": [
      "Inserindo 1000000 registros...\n",
      "1000000 registros inseridos com sucesso.\n"
     ]
    }
   ],
   "source": [
    "# Testando o script\n",
    "conexao = sqlite3.connect(nome_banco)\n",
    "inserir_dados(conexao, num_registros=1000000)  # Altere o valor aqui para testar o limite\n",
    "conexao.close()"
   ]
  },
  {
   "cell_type": "code",
   "execution_count": 27,
   "metadata": {},
   "outputs": [
    {
     "name": "stdout",
     "output_type": "stream",
     "text": [
      "Inserindo 10000000 registros...\n",
      "10000000 registros inseridos com sucesso.\n"
     ]
    }
   ],
   "source": [
    "# Testando o script\n",
    "conexao = sqlite3.connect(nome_banco)\n",
    "inserir_dados(conexao, num_registros=10000000)  # Altere o valor aqui para testar o limite\n",
    "conexao.close()"
   ]
  },
  {
   "cell_type": "code",
   "execution_count": 30,
   "metadata": {},
   "outputs": [
    {
     "name": "stdout",
     "output_type": "stream",
     "text": [
      "Total de registros: 11100000\n"
     ]
    }
   ],
   "source": [
    "conexao = sqlite3.connect(nome_banco)\n",
    "contar_registros(conexao=conexao)"
   ]
  },
  {
   "cell_type": "code",
   "execution_count": 35,
   "metadata": {},
   "outputs": [
    {
     "name": "stdout",
     "output_type": "stream",
     "text": [
      "[(130411, 65360517318)]\n"
     ]
    }
   ],
   "source": [
    "select_cursor = conexao.cursor()\n",
    "select_cursor.execute(\n",
    "    \"SELECT COUNT(nome) as contagem_nome, sum(valor) as contagem_valor from teste where nome like 'F%'\"\n",
    ")\n",
    "resultado = select_cursor.fetchall()\n",
    "print(resultado)"
   ]
  },
  {
   "cell_type": "code",
   "execution_count": 26,
   "metadata": {},
   "outputs": [
    {
     "name": "stdout",
     "output_type": "stream",
     "text": [
      "Banco de dados em memória criado.\n"
     ]
    }
   ],
   "source": [
    "conexao_ram = sqlite3.connect(\":memory:\")\n",
    "print(\"Banco de dados em memória criado.\")"
   ]
  }
 ],
 "metadata": {
  "kernelspec": {
   "display_name": "Python 3",
   "language": "python",
   "name": "python3"
  },
  "language_info": {
   "codemirror_mode": {
    "name": "ipython",
    "version": 3
   },
   "file_extension": ".py",
   "mimetype": "text/x-python",
   "name": "python",
   "nbconvert_exporter": "python",
   "pygments_lexer": "ipython3",
   "version": "3.13.0"
  }
 },
 "nbformat": 4,
 "nbformat_minor": 2
}
