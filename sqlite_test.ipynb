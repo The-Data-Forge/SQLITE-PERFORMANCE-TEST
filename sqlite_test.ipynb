{
 "cells": [
  {
   "cell_type": "code",
   "execution_count": 1,
   "metadata": {},
   "outputs": [],
   "source": [
    "# !pip install sqlite3\n",
    "# !pip install time\n",
    "# !pip install psutil\n",
    "# !pip install os\n",
    "# !pip install faker"
   ]
  },
  {
   "cell_type": "code",
   "execution_count": 18,
   "metadata": {},
   "outputs": [],
   "source": [
    "import sqlite3\n",
    "import time\n",
    "import random\n",
    "import psutil\n",
    "import os\n",
    "from faker import Faker\n",
    "fake = Faker(\"pt_br\")"
   ]
  },
  {
   "cell_type": "code",
   "execution_count": 20,
   "metadata": {},
   "outputs": [
    {
     "name": "stdout",
     "output_type": "stream",
     "text": [
      "Banco de dados 'sqlite_database.bd' criado.\n"
     ]
    },
    {
     "ename": "OperationalError",
     "evalue": "database is locked",
     "output_type": "error",
     "traceback": [
      "\u001b[1;31m---------------------------------------------------------------------------\u001b[0m",
      "\u001b[1;31mOperationalError\u001b[0m                          Traceback (most recent call last)",
      "Cell \u001b[1;32mIn[20], line 5\u001b[0m\n\u001b[0;32m      3\u001b[0m \u001b[38;5;28mprint\u001b[39m(\u001b[38;5;124mf\u001b[39m\u001b[38;5;124m\"\u001b[39m\u001b[38;5;124mBanco de dados \u001b[39m\u001b[38;5;124m'\u001b[39m\u001b[38;5;132;01m{\u001b[39;00mnome_banco\u001b[38;5;132;01m}\u001b[39;00m\u001b[38;5;124m'\u001b[39m\u001b[38;5;124m criado.\u001b[39m\u001b[38;5;124m\"\u001b[39m)\n\u001b[0;32m      4\u001b[0m cursor \u001b[38;5;241m=\u001b[39m conexao\u001b[38;5;241m.\u001b[39mcursor()\n\u001b[1;32m----> 5\u001b[0m \u001b[43mcursor\u001b[49m\u001b[38;5;241;43m.\u001b[39;49m\u001b[43mexecute\u001b[49m\u001b[43m(\u001b[49m\u001b[38;5;124;43m\"\u001b[39;49m\u001b[38;5;124;43mDROP TABLE IF EXISTS TESTE;\u001b[39;49m\u001b[38;5;124;43m\"\u001b[39;49m\u001b[43m)\u001b[49m\n\u001b[0;32m      6\u001b[0m cursor\u001b[38;5;241m.\u001b[39mexecute(\u001b[38;5;124m\"\u001b[39m\u001b[38;5;124mDROP TABLE IF EXISTS results;\u001b[39m\u001b[38;5;124m\"\u001b[39m)\n\u001b[0;32m      7\u001b[0m cursor\u001b[38;5;241m.\u001b[39mexecutescript(\n\u001b[0;32m      8\u001b[0m \u001b[38;5;250m    \u001b[39m\u001b[38;5;124;03m\"\"\"\u001b[39;00m\n\u001b[0;32m      9\u001b[0m \u001b[38;5;124;03m    CREATE TABLE IF NOT EXISTS teste (\u001b[39;00m\n\u001b[1;32m   (...)\u001b[0m\n\u001b[0;32m     21\u001b[0m \u001b[38;5;124;03m\"\"\"\u001b[39;00m\n\u001b[0;32m     22\u001b[0m )\n",
      "\u001b[1;31mOperationalError\u001b[0m: database is locked"
     ]
    }
   ],
   "source": [
    "nome_banco = \"sqlite_database.bd\"\n",
    "conexao = sqlite3.connect(nome_banco)\n",
    "print(f\"Banco de dados '{nome_banco}' criado.\")\n",
    "cursor = conexao.cursor()\n",
    "cursor.execute(\"DROP TABLE IF EXISTS TESTE;\")\n",
    "cursor.execute(\"DROP TABLE IF EXISTS results;\")\n",
    "cursor.executescript(\n",
    "    \"\"\"\n",
    "    CREATE TABLE IF NOT EXISTS teste (\n",
    "        id INTEGER PRIMARY KEY AUTOINCREMENT,\n",
    "        nome TEXT,\n",
    "        valor INTEGER\n",
    "    );\n",
    "    CREATE TABLE IF NOT EXISTS results (\n",
    "        id INTEGER PRIMARY KEY AUTOINCREMENT,\n",
    "        time real,\n",
    "        memori real,\n",
    "        cpu real,\n",
    "        nr_registros integer\n",
    "    );\n",
    "\"\"\"\n",
    ")\n",
    "conexao.commit()\n",
    "print(\"Tabelas criadas com sucesso.\")"
   ]
  },
  {
   "cell_type": "code",
   "execution_count": 14,
   "metadata": {},
   "outputs": [],
   "source": [
    "# Função para monitorar memória e CPU\n",
    "def monitorar_recursos():\n",
    "    processo = psutil.Process(os.getpid())\n",
    "    memoria = processo.memory_info().rss / (1024 * 1024)  # Memória em MB\n",
    "    cpu = psutil.cpu_percent(interval=1)  # Uso de CPU em %\n",
    "    return memoria, cpu\n",
    "\n",
    "\n",
    "# Função para medir tempo de execução\n",
    "def medir_tempo(func):\n",
    "    def wrapper(*args, **kwargs):\n",
    "        inicio = time.time()\n",
    "        resultado = func(*args, **kwargs)\n",
    "        fim = time.time()\n",
    "        tempo_total = fim - inicio\n",
    "        memoria, cpu = monitorar_recursos()\n",
    "        print(\n",
    "            f\"Tempo de execução: {tempo_total:.2f}s | Memória usada: {memoria:.2f}MB | CPU usada: {cpu}%\"\n",
    "        )\n",
    "        return resultado, tempo_total, memoria, cpu\n",
    "\n",
    "    return wrapper\n",
    "\n",
    "\n",
    "def registrar_resultados(tempo_processamento, memoria, cpu, nr_registros, conexao):\n",
    "    cursor_registro = conexao\n",
    "    cursor_registro.execute(\n",
    "        \"insert into results (time, memori, cpu, nr_registros) values (?,?,?,?)\",\n",
    "        (tempo_processamento, memoria, cpu, nr_registros),\n",
    "    )\n",
    "    conexao.commit()\n",
    "\n",
    "\n",
    "# Contar registros\n",
    "def contar_registros(conexao):\n",
    "    cursor = conexao.cursor()\n",
    "    cursor.execute(\"SELECT COUNT(*) FROM teste;\")\n",
    "    resultado = cursor.fetchone()\n",
    "    print(f\"Total de registros: {resultado[0]}\")"
   ]
  },
  {
   "cell_type": "code",
   "execution_count": 11,
   "metadata": {},
   "outputs": [],
   "source": [
    "@medir_tempo\n",
    "def inserir_dados(conexao, num_registros):\n",
    "    cursor = conexao.cursor()\n",
    "    print(f\"Inserindo {num_registros} registros...\")\n",
    "    cursor.execute(\"BEGIN TRANSACTION;\")\n",
    "    for _ in range(num_registros):\n",
    "        nome = fake.name()\n",
    "        valor = random.randint(1, 1000000)\n",
    "        cursor.execute(\"INSERT INTO teste (nome, valor) VALUES (?, ?)\", (nome, valor))\n",
    "    conexao.commit()\n",
    "    print(f\"{num_registros} registros inseridos com sucesso.\")"
   ]
  },
  {
   "cell_type": "code",
   "execution_count": 15,
   "metadata": {},
   "outputs": [
    {
     "name": "stdout",
     "output_type": "stream",
     "text": [
      "Inserindo 100000 registros...\n"
     ]
    },
    {
     "ename": "OperationalError",
     "evalue": "cannot start a transaction within a transaction",
     "output_type": "error",
     "traceback": [
      "\u001b[1;31m---------------------------------------------------------------------------\u001b[0m",
      "\u001b[1;31mOperationalError\u001b[0m                          Traceback (most recent call last)",
      "Cell \u001b[1;32mIn[15], line 2\u001b[0m\n\u001b[0;32m      1\u001b[0m \u001b[38;5;66;03m# Testando o script\u001b[39;00m\n\u001b[1;32m----> 2\u001b[0m _, tempo_total, memoria, cpu \u001b[38;5;241m=\u001b[39m \u001b[43minserir_dados\u001b[49m\u001b[43m(\u001b[49m\u001b[43mconexao\u001b[49m\u001b[43m,\u001b[49m\u001b[43m \u001b[49m\u001b[43mnum_registros\u001b[49m\u001b[38;5;241;43m=\u001b[39;49m\u001b[38;5;241;43m100000\u001b[39;49m\u001b[43m)\u001b[49m  \u001b[38;5;66;03m# Altere o valor aqui para testar o limite\u001b[39;00m\n\u001b[0;32m      3\u001b[0m registrar_resultados(tempo_total, memoria, cpu, \u001b[38;5;241m100000\u001b[39m, conexao)\n\u001b[0;32m      4\u001b[0m \u001b[38;5;28mprint\u001b[39m(tempo_total, memoria, cpu)\n",
      "Cell \u001b[1;32mIn[10], line 13\u001b[0m, in \u001b[0;36mmedir_tempo.<locals>.wrapper\u001b[1;34m(*args, **kwargs)\u001b[0m\n\u001b[0;32m     11\u001b[0m \u001b[38;5;28;01mdef\u001b[39;00m \u001b[38;5;21mwrapper\u001b[39m(\u001b[38;5;241m*\u001b[39margs, \u001b[38;5;241m*\u001b[39m\u001b[38;5;241m*\u001b[39mkwargs):\n\u001b[0;32m     12\u001b[0m     inicio \u001b[38;5;241m=\u001b[39m time\u001b[38;5;241m.\u001b[39mtime()\n\u001b[1;32m---> 13\u001b[0m     resultado \u001b[38;5;241m=\u001b[39m \u001b[43mfunc\u001b[49m\u001b[43m(\u001b[49m\u001b[38;5;241;43m*\u001b[39;49m\u001b[43margs\u001b[49m\u001b[43m,\u001b[49m\u001b[43m \u001b[49m\u001b[38;5;241;43m*\u001b[39;49m\u001b[38;5;241;43m*\u001b[39;49m\u001b[43mkwargs\u001b[49m\u001b[43m)\u001b[49m\n\u001b[0;32m     14\u001b[0m     fim \u001b[38;5;241m=\u001b[39m time\u001b[38;5;241m.\u001b[39mtime()\n\u001b[0;32m     15\u001b[0m     tempo_total \u001b[38;5;241m=\u001b[39m fim \u001b[38;5;241m-\u001b[39m inicio\n",
      "Cell \u001b[1;32mIn[11], line 5\u001b[0m, in \u001b[0;36minserir_dados\u001b[1;34m(conexao, num_registros)\u001b[0m\n\u001b[0;32m      3\u001b[0m cursor \u001b[38;5;241m=\u001b[39m conexao\u001b[38;5;241m.\u001b[39mcursor()\n\u001b[0;32m      4\u001b[0m \u001b[38;5;28mprint\u001b[39m(\u001b[38;5;124mf\u001b[39m\u001b[38;5;124m\"\u001b[39m\u001b[38;5;124mInserindo \u001b[39m\u001b[38;5;132;01m{\u001b[39;00mnum_registros\u001b[38;5;132;01m}\u001b[39;00m\u001b[38;5;124m registros...\u001b[39m\u001b[38;5;124m\"\u001b[39m)\n\u001b[1;32m----> 5\u001b[0m \u001b[43mcursor\u001b[49m\u001b[38;5;241;43m.\u001b[39;49m\u001b[43mexecute\u001b[49m\u001b[43m(\u001b[49m\u001b[38;5;124;43m\"\u001b[39;49m\u001b[38;5;124;43mBEGIN TRANSACTION;\u001b[39;49m\u001b[38;5;124;43m\"\u001b[39;49m\u001b[43m)\u001b[49m\n\u001b[0;32m      6\u001b[0m \u001b[38;5;28;01mfor\u001b[39;00m _ \u001b[38;5;129;01min\u001b[39;00m \u001b[38;5;28mrange\u001b[39m(num_registros):\n\u001b[0;32m      7\u001b[0m     nome \u001b[38;5;241m=\u001b[39m fake\u001b[38;5;241m.\u001b[39mname()\n",
      "\u001b[1;31mOperationalError\u001b[0m: cannot start a transaction within a transaction"
     ]
    }
   ],
   "source": [
    "# Testando o script\n",
    "_, tempo_total, memoria, cpu = inserir_dados(conexao, num_registros=100000)  # Altere o valor aqui para testar o limite\n",
    "registrar_resultados(tempo_total, memoria, cpu, 100000, conexao)\n",
    "print(tempo_total, memoria, cpu)"
   ]
  },
  {
   "cell_type": "code",
   "execution_count": 7,
   "metadata": {},
   "outputs": [
    {
     "name": "stdout",
     "output_type": "stream",
     "text": [
      "Inserindo 1000000 registros...\n",
      "1000000 registros inseridos com sucesso.\n",
      "Tempo de execução: 12.36s | Memória usada: 76.61MB | CPU usada: 10.4%\n"
     ]
    }
   ],
   "source": [
    "# Testando o script\n",
    "inserir_dados(conexao, num_registros=1000000)  # Altere o valor aqui para testar o limite"
   ]
  },
  {
   "cell_type": "code",
   "execution_count": 8,
   "metadata": {},
   "outputs": [
    {
     "name": "stdout",
     "output_type": "stream",
     "text": [
      "Inserindo 10000000 registros...\n",
      "10000000 registros inseridos com sucesso.\n",
      "Tempo de execução: 115.73s | Memória usada: 76.65MB | CPU usada: 10.3%\n"
     ]
    }
   ],
   "source": [
    "# Testando o script\n",
    "inserir_dados(conexao, num_registros=10000000)  # Altere o valor aqui para testar o limite"
   ]
  },
  {
   "cell_type": "code",
   "execution_count": 9,
   "metadata": {},
   "outputs": [
    {
     "name": "stdout",
     "output_type": "stream",
     "text": [
      "Total de registros: 11100000\n"
     ]
    }
   ],
   "source": [
    "contar_registros(conexao=conexao)"
   ]
  },
  {
   "cell_type": "code",
   "execution_count": 10,
   "metadata": {},
   "outputs": [
    {
     "data": {
      "text/plain": [
       "(76.65625, 7.1)"
      ]
     },
     "execution_count": 10,
     "metadata": {},
     "output_type": "execute_result"
    }
   ],
   "source": [
    "monitorar_recursos()"
   ]
  },
  {
   "cell_type": "code",
   "execution_count": 18,
   "metadata": {},
   "outputs": [
    {
     "ename": "ProgrammingError",
     "evalue": "Cannot operate on a closed database.",
     "output_type": "error",
     "traceback": [
      "\u001b[1;31m---------------------------------------------------------------------------\u001b[0m",
      "\u001b[1;31mProgrammingError\u001b[0m                          Traceback (most recent call last)",
      "Cell \u001b[1;32mIn[18], line 1\u001b[0m\n\u001b[1;32m----> 1\u001b[0m \u001b[43minserir_dados\u001b[49m\u001b[43m(\u001b[49m\u001b[43mconexao\u001b[49m\u001b[43m,\u001b[49m\u001b[43m \u001b[49m\u001b[38;5;241;43m100000\u001b[39;49m\u001b[43m)\u001b[49m\n",
      "Cell \u001b[1;32mIn[3], line 12\u001b[0m, in \u001b[0;36mmedir_tempo.<locals>.wrapper\u001b[1;34m(*args, **kwargs)\u001b[0m\n\u001b[0;32m     10\u001b[0m \u001b[38;5;28;01mdef\u001b[39;00m \u001b[38;5;21mwrapper\u001b[39m(\u001b[38;5;241m*\u001b[39margs, \u001b[38;5;241m*\u001b[39m\u001b[38;5;241m*\u001b[39mkwargs):\n\u001b[0;32m     11\u001b[0m     inicio \u001b[38;5;241m=\u001b[39m time\u001b[38;5;241m.\u001b[39mtime()\n\u001b[1;32m---> 12\u001b[0m     resultado \u001b[38;5;241m=\u001b[39m \u001b[43mfunc\u001b[49m\u001b[43m(\u001b[49m\u001b[38;5;241;43m*\u001b[39;49m\u001b[43margs\u001b[49m\u001b[43m,\u001b[49m\u001b[43m \u001b[49m\u001b[38;5;241;43m*\u001b[39;49m\u001b[38;5;241;43m*\u001b[39;49m\u001b[43mkwargs\u001b[49m\u001b[43m)\u001b[49m\n\u001b[0;32m     13\u001b[0m     fim \u001b[38;5;241m=\u001b[39m time\u001b[38;5;241m.\u001b[39mtime()\n\u001b[0;32m     14\u001b[0m     tempo_total \u001b[38;5;241m=\u001b[39m fim \u001b[38;5;241m-\u001b[39m inicio\n",
      "Cell \u001b[1;32mIn[5], line 3\u001b[0m, in \u001b[0;36minserir_dados\u001b[1;34m(conexao, num_registros)\u001b[0m\n\u001b[0;32m      1\u001b[0m \u001b[38;5;129m@medir_tempo\u001b[39m\n\u001b[0;32m      2\u001b[0m \u001b[38;5;28;01mdef\u001b[39;00m \u001b[38;5;21minserir_dados\u001b[39m(conexao, num_registros):\n\u001b[1;32m----> 3\u001b[0m     cursor \u001b[38;5;241m=\u001b[39m \u001b[43mconexao\u001b[49m\u001b[38;5;241;43m.\u001b[39;49m\u001b[43mcursor\u001b[49m\u001b[43m(\u001b[49m\u001b[43m)\u001b[49m\n\u001b[0;32m      4\u001b[0m     \u001b[38;5;28mprint\u001b[39m(\u001b[38;5;124mf\u001b[39m\u001b[38;5;124m\"\u001b[39m\u001b[38;5;124mInserindo \u001b[39m\u001b[38;5;132;01m{\u001b[39;00mnum_registros\u001b[38;5;132;01m}\u001b[39;00m\u001b[38;5;124m registros...\u001b[39m\u001b[38;5;124m\"\u001b[39m)\n\u001b[0;32m      5\u001b[0m     cursor\u001b[38;5;241m.\u001b[39mexecute(\u001b[38;5;124m\"\u001b[39m\u001b[38;5;124mBEGIN TRANSACTION;\u001b[39m\u001b[38;5;124m\"\u001b[39m)\n",
      "\u001b[1;31mProgrammingError\u001b[0m: Cannot operate on a closed database."
     ]
    }
   ],
   "source": [
    "inserir_dados(conexao, 100000)"
   ]
  },
  {
   "cell_type": "code",
   "execution_count": 12,
   "metadata": {},
   "outputs": [
    {
     "name": "stdout",
     "output_type": "stream",
     "text": [
      "[(131907, 65967971820)]\n"
     ]
    }
   ],
   "source": [
    "select_cursor = conexao.cursor()\n",
    "select_cursor.execute(\n",
    "    \"SELECT COUNT(nome) as contagem_nome, sum(valor) as contagem_valor from teste where nome like 'F%'\"\n",
    ")\n",
    "resultado = select_cursor.fetchall()\n",
    "print(resultado)"
   ]
  },
  {
   "cell_type": "code",
   "execution_count": 19,
   "metadata": {},
   "outputs": [],
   "source": [
    "conexao.close()"
   ]
  }
 ],
 "metadata": {
  "kernelspec": {
   "display_name": "Python 3",
   "language": "python",
   "name": "python3"
  },
  "language_info": {
   "codemirror_mode": {
    "name": "ipython",
    "version": 3
   },
   "file_extension": ".py",
   "mimetype": "text/x-python",
   "name": "python",
   "nbconvert_exporter": "python",
   "pygments_lexer": "ipython3",
   "version": "3.13.0"
  }
 },
 "nbformat": 4,
 "nbformat_minor": 2
}
