{
 "cells": [
  {
   "cell_type": "code",
   "execution_count": 39,
   "metadata": {},
   "outputs": [],
   "source": [
    "# !pip install sqlite3\n",
    "# !pip install time\n",
    "# !pip install psutil\n",
    "# !pip install os\n",
    "# !pip install faker"
   ]
  },
  {
   "cell_type": "code",
   "execution_count": 1,
   "metadata": {},
   "outputs": [],
   "source": [
    "import sqlite3\n",
    "import time\n",
    "import random\n",
    "import psutil\n",
    "import os\n",
    "from faker import Faker\n",
    "fake = Faker(\"pt_br\")"
   ]
  },
  {
   "cell_type": "code",
   "execution_count": 2,
   "metadata": {},
   "outputs": [],
   "source": [
    "# Função para monitorar memória e CPU\n",
    "def monitorar_recursos():\n",
    "    processo = psutil.Process(os.getpid())\n",
    "    memoria = processo.memory_info().rss / (1024 * 1024)  # Memória em MB\n",
    "    cpu = psutil.cpu_percent(interval=1)  # Uso de CPU em %\n",
    "    return memoria, cpu\n",
    "\n",
    "\n",
    "# Função para medir tempo de execução\n",
    "def medir_tempo(func):\n",
    "    def wrapper(*args, **kwargs):\n",
    "        inicio = time.time()\n",
    "        method, commit_type = func(*args, **kwargs)\n",
    "        fim = time.time()\n",
    "        tempo_total = fim - inicio  \n",
    "        memoria, cpu = monitorar_recursos()\n",
    "        # print(\n",
    "        #     f\"Tempo de execução: {tempo_total:.2f}s | Memória usada: {memoria:.2f}MB | CPU usada: {cpu}%\"\n",
    "        # )\n",
    "        return method, commit_type, tempo_total, memoria, cpu\n",
    "\n",
    "    return wrapper\n",
    "\n",
    "\n",
    "def registrar_resultados(\n",
    "    tempo_processamento, memoria, cpu, nr_registros, method, commit_type, conexao\n",
    "):\n",
    "    cursor_registro = conexao\n",
    "    cursor_registro.execute(\n",
    "        \"insert into results (time, memori, cpu, nr_registros, method, commit_type) values (?,?,?,?,?,?)\",\n",
    "        (tempo_processamento, memoria, cpu, nr_registros, method, commit_type),\n",
    "    )\n",
    "    conexao.commit()\n",
    "\n",
    "\n",
    "# Contar registros\n",
    "def contar_registros(conexao):\n",
    "    cursor = conexao.cursor()\n",
    "    cursor.execute(\"SELECT COUNT(*) FROM teste;\")\n",
    "    resultado = cursor.fetchone()\n",
    "    print(f\"Total de registros: {resultado[0]}\")"
   ]
  },
  {
   "cell_type": "code",
   "execution_count": 3,
   "metadata": {},
   "outputs": [
    {
     "name": "stdout",
     "output_type": "stream",
     "text": [
      "Banco de dados 'sqlite_database.bd' criado.\n",
      "Tabelas criadas com sucesso.\n"
     ]
    }
   ],
   "source": [
    "nome_banco = \"sqlite_database.bd\"\n",
    "print(f\"Banco de dados '{nome_banco}' criado.\")\n",
    "try:\n",
    "    conexao = sqlite3.connect(nome_banco)\n",
    "    cursor = conexao.cursor()\n",
    "    cursor.executescript(\n",
    "        \"\"\"\n",
    "        CREATE TABLE IF NOT EXISTS teste (\n",
    "            id INTEGER PRIMARY KEY AUTOINCREMENT,\n",
    "            nome TEXT,\n",
    "            valor INTEGER\n",
    "        );\n",
    "        CREATE TABLE IF NOT EXISTS teste_batch (\n",
    "            id INTEGER PRIMARY KEY AUTOINCREMENT,\n",
    "            nome TEXT,\n",
    "            valor INTEGER\n",
    "        );\n",
    "        CREATE TABLE IF NOT EXISTS results (\n",
    "            id INTEGER PRIMARY KEY AUTOINCREMENT,\n",
    "            time real,\n",
    "            memori real,\n",
    "            cpu real,\n",
    "            nr_registros integer,\n",
    "            method text,\n",
    "            commit_type text CHECK(commit_type IN ('batch', 'per_row'))\n",
    "        );\n",
    "    \"\"\"\n",
    "    )\n",
    "    conexao.commit()\n",
    "    print(\"Tabelas criadas com sucesso.\")\n",
    "except Exception as e:\n",
    "    print('Erro: ', e)\n",
    "finally:\n",
    "    conexao.close()"
   ]
  },
  {
   "cell_type": "code",
   "execution_count": 4,
   "metadata": {},
   "outputs": [],
   "source": [
    "@medir_tempo\n",
    "def inserir_dados_execute(conexao, num_registros):\n",
    "    cursor = conexao.cursor()\n",
    "    cursor.execute(\"BEGIN TRANSACTION;\")\n",
    "    for _ in range(num_registros):\n",
    "        nome = fake.name()\n",
    "        valor = random.randint(1, 1000000)\n",
    "        cursor.execute(\"INSERT INTO teste (nome, valor) VALUES (?, ?)\", (nome, valor))\n",
    "    conexao.commit()\n",
    "    return 'execute', 'per_row'"
   ]
  },
  {
   "cell_type": "code",
   "execution_count": 5,
   "metadata": {},
   "outputs": [],
   "source": [
    "@medir_tempo\n",
    "def inserir_dados_execute_many(conexao, num_registros):\n",
    "    cursor = conexao.cursor()\n",
    "    cursor.execute(\"BEGIN TRANSACTION;\")\n",
    "    lst_insert_many = list()\n",
    "    for _ in range(num_registros):\n",
    "        nome = fake.name()\n",
    "        valor = random.randint(1, 1000000)\n",
    "        lst_insert_many.append((nome, valor))\n",
    "        \n",
    "    cursor.executemany(\"INSERT INTO teste_batch (nome, valor) VALUES (?, ?)\", lst_insert_many)\n",
    "    conexao.commit()\n",
    "    return 'execute', 'batch'"
   ]
  },
  {
   "cell_type": "code",
   "execution_count": 49,
   "metadata": {},
   "outputs": [],
   "source": [
    "# Testando o script\n",
    "for nr_insert in range(10000):\n",
    "\n",
    "    try:\n",
    "        conexao = sqlite3.connect(nome_banco)\n",
    "        method, commit_type, tempo_total, memoria, cpu = inserir_dados_execute(\n",
    "            conexao, nr_insert\n",
    "        ) \n",
    "\n",
    "\n",
    "        registrar_resultados(\n",
    "            tempo_total, memoria, cpu, nr_insert, method, commit_type, conexao\n",
    "        )\n",
    "    except Exception as e:\n",
    "        print(e)\n",
    "    finally:\n",
    "        conexao.close()"
   ]
  },
  {
   "cell_type": "code",
   "execution_count": null,
   "metadata": {},
   "outputs": [],
   "source": [
    "# Testando o script\n",
    "for nr_insert in range(10000):\n",
    "\n",
    "    try:\n",
    "        conexao = sqlite3.connect(nome_banco)\n",
    "        method, commit_type, tempo_total, memoria, cpu = inserir_dados_execute_many(\n",
    "            conexao, nr_insert\n",
    "        ) \n",
    "\n",
    "\n",
    "        registrar_resultados(\n",
    "            tempo_total, memoria, cpu, nr_insert, method, commit_type, conexao\n",
    "        )\n",
    "    except Exception as e:\n",
    "        print(e)\n",
    "    finally:\n",
    "        conexao.close()"
   ]
  },
  {
   "cell_type": "code",
   "execution_count": null,
   "metadata": {},
   "outputs": [
    {
     "data": {
      "text/plain": [
       "(77.1484375, 6.6)"
      ]
     },
     "execution_count": 35,
     "metadata": {},
     "output_type": "execute_result"
    }
   ],
   "source": [
    "monitorar_recursos()"
   ]
  },
  {
   "cell_type": "code",
   "execution_count": 51,
   "metadata": {},
   "outputs": [
    {
     "ename": "ProgrammingError",
     "evalue": "Cannot operate on a closed database.",
     "output_type": "error",
     "traceback": [
      "\u001b[1;31m---------------------------------------------------------------------------\u001b[0m",
      "\u001b[1;31mProgrammingError\u001b[0m                          Traceback (most recent call last)",
      "Cell \u001b[1;32mIn[51], line 1\u001b[0m\n\u001b[1;32m----> 1\u001b[0m select_cursor \u001b[38;5;241m=\u001b[39m \u001b[43mconexao\u001b[49m\u001b[38;5;241;43m.\u001b[39;49m\u001b[43mcursor\u001b[49m\u001b[43m(\u001b[49m\u001b[43m)\u001b[49m\n\u001b[0;32m      2\u001b[0m select_cursor\u001b[38;5;241m.\u001b[39mexecute(\n\u001b[0;32m      3\u001b[0m     \u001b[38;5;124m\"\u001b[39m\u001b[38;5;124mSELECT COUNT(nome) as contagem_nome, sum(valor) as contagem_valor from teste where nome like \u001b[39m\u001b[38;5;124m'\u001b[39m\u001b[38;5;124mF\u001b[39m\u001b[38;5;124m%\u001b[39m\u001b[38;5;124m'\u001b[39m\u001b[38;5;124m\"\u001b[39m\n\u001b[0;32m      4\u001b[0m )\n\u001b[0;32m      5\u001b[0m resultado \u001b[38;5;241m=\u001b[39m select_cursor\u001b[38;5;241m.\u001b[39mfetchall()\n",
      "\u001b[1;31mProgrammingError\u001b[0m: Cannot operate on a closed database."
     ]
    }
   ],
   "source": [
    "select_cursor = conexao.cursor()\n",
    "select_cursor.execute(\n",
    "    \"SELECT COUNT(nome) as contagem_nome, sum(valor) as contagem_valor from teste where nome like 'F%'\"\n",
    ")\n",
    "resultado = select_cursor.fetchall()\n",
    "print(resultado)"
   ]
  },
  {
   "cell_type": "code",
   "execution_count": 50,
   "metadata": {},
   "outputs": [],
   "source": [
    "conexao.close()"
   ]
  }
 ],
 "metadata": {
  "kernelspec": {
   "display_name": "Python 3",
   "language": "python",
   "name": "python3"
  },
  "language_info": {
   "codemirror_mode": {
    "name": "ipython",
    "version": 3
   },
   "file_extension": ".py",
   "mimetype": "text/x-python",
   "name": "python",
   "nbconvert_exporter": "python",
   "pygments_lexer": "ipython3",
   "version": "3.13.0"
  }
 },
 "nbformat": 4,
 "nbformat_minor": 2
}
