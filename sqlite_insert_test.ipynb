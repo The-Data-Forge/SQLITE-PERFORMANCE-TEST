{
 "cells": [
  {
   "cell_type": "code",
   "execution_count": 84,
   "metadata": {},
   "outputs": [],
   "source": [
    "# !pip install sqlite3\n",
    "# !pip install time\n",
    "# !pip install psutil\n",
    "# !pip install os\n",
    "# !pip install faker\n",
    "# !pip install tqdm"
   ]
  },
  {
   "cell_type": "code",
   "execution_count": 85,
   "metadata": {},
   "outputs": [],
   "source": [
    "import sqlite3\n",
    "import time\n",
    "import random\n",
    "import psutil\n",
    "import os\n",
    "from faker import Faker\n",
    "from tqdm import tqdm\n",
    "\n",
    "fake = Faker(\"pt_br\")"
   ]
  },
  {
   "cell_type": "markdown",
   "metadata": {},
   "source": [
    "---\n",
    "\n",
    "## _INSERT DE DADOS E EFICIÊNCIA_\n"
   ]
  },
  {
   "cell_type": "code",
   "execution_count": 68,
   "metadata": {},
   "outputs": [],
   "source": [
    "# Função para monitorar memória e CPU\n",
    "def monitorar_recursos():\n",
    "    \"\"\"\n",
    "    Retorna o uso de memória e CPU do sistema no momento da execução.\n",
    "\n",
    "    Returns:\n",
    "        memoria (float): Uso de memória em MB.\n",
    "        cpu (float): Uso da CPU em %.\n",
    "    \"\"\"\n",
    "    processo = psutil.Process(os.getpid())\n",
    "    memoria = processo.memory_info().rss / (1024 * 1024)  # Memória em MB\n",
    "    cpu = psutil.cpu_percent(interval=1)  # Uso de CPU em %\n",
    "    return memoria, cpu\n",
    "\n",
    "\n",
    "# Função para medir tempo de execução\n",
    "def medir_tempo(func):\n",
    "    \"\"\"\n",
    "    Decorador para medir o tempo de execução de uma função e monitorar o consumo de memória e CPU.\n",
    "\n",
    "    Args:\n",
    "        func (function): Função a ser medida.\n",
    "\n",
    "    Returns:\n",
    "        function: Retorna a função decorada com monitoramento de tempo e recursos.\n",
    "    \"\"\"\n",
    "\n",
    "    def wrapper(*args, **kwargs):\n",
    "        inicio = time.time()\n",
    "        method, commit_type = func(*args, **kwargs)\n",
    "        fim = time.time()\n",
    "        tempo_total = fim - inicio\n",
    "        memoria, cpu = monitorar_recursos()\n",
    "        return method, commit_type, tempo_total, memoria, cpu\n",
    "\n",
    "    return wrapper\n",
    "\n",
    "\n",
    "# Função para medir tempo de select\n",
    "def medir_tempo_select(func):\n",
    "    def wrapper(*args, **kwargs):\n",
    "        inicio = time.time()\n",
    "        method, contagem_registros, tamanho_bd = func(*args, **kwargs)\n",
    "        fim = time.time()\n",
    "        tempo_total = fim - inicio\n",
    "        memoria, cpu = monitorar_recursos()\n",
    "        return method, contagem_registros, tamanho_bd, tempo_total, memoria, cpu\n",
    "\n",
    "    return wrapper\n",
    "\n",
    "\n",
    "def registrar_resultados(\n",
    "    tempo_processamento: float,\n",
    "    memoria: float,\n",
    "    cpu: float,\n",
    "    nr_registros: int,\n",
    "    method: str,\n",
    "    commit_type: str,\n",
    "    conexao: sqlite3.Connection,\n",
    "):\n",
    "    \"\"\"\n",
    "    Registra os resultados de desempenho na tabela 'results'.\n",
    "\n",
    "    Args:\n",
    "        tempo_processamento (float): Tempo de execução da operação.\n",
    "        memoria (float): Uso de memória em MB.\n",
    "        cpu (float): Uso de CPU em %.\n",
    "        nr_registros (int): Número de registros inseridos.\n",
    "        method (str): Método de inserção ('execute' ou 'executemany').\n",
    "        commit_type (str): Tipo de commit ('batch' ou 'per_row').\n",
    "        conexao (sqlite3.Connection): Conexão ativa com o banco de dados.\n",
    "    \"\"\"\n",
    "    cursor_registro = conexao.cursor()\n",
    "    cursor_registro.execute(\n",
    "        \"insert into t_sqlite_insert_results (time, memori, cpu, nr_registros, method, commit_type) values (?,?,?,?,?,?)\",\n",
    "        (tempo_processamento, memoria, cpu, nr_registros, method, commit_type),\n",
    "    )\n",
    "    conexao.commit()\n",
    "\n",
    "\n",
    "# Contar registros\n",
    "def contar_registros(conexao):\n",
    "    cursor = conexao.cursor()\n",
    "    cursor.execute(\"SELECT COUNT(*) FROM t_sqlite_insert;\")\n",
    "    resultado = cursor.fetchone()\n",
    "    print(f\"Total de registros: {resultado[0]}\")\n",
    "\n",
    "\n",
    "# genarator numérico\n",
    "def generator_range(nr_range: int, inicio_zero: bool = False):\n",
    "    \"\"\"\n",
    "    Retorna um generator com o range começando em x + 1\n",
    "    Desta forma um range(10) começa em 1 e termina em 10\n",
    "    \"\"\"\n",
    "    if inicio_zero:\n",
    "        y = 0\n",
    "    else:\n",
    "        y = 1\n",
    "    return (x + y for x in range(nr_range))"
   ]
  },
  {
   "cell_type": "code",
   "execution_count": 4,
   "metadata": {},
   "outputs": [
    {
     "name": "stdout",
     "output_type": "stream",
     "text": [
      "Banco de dados 'sqlite_database.bd' criado.\n",
      "Tabelas criadas com sucesso.\n"
     ]
    }
   ],
   "source": [
    "nome_banco = \"sqlite_database.bd\"\n",
    "test_range = 10\n",
    "print(f\"Banco de dados '{nome_banco}' criado.\")\n",
    "try:\n",
    "    conexao = sqlite3.connect(nome_banco)\n",
    "    cursor = conexao.cursor()\n",
    "    cursor.executescript(\n",
    "        \"\"\"\n",
    "        CREATE TABLE IF NOT EXISTS t_sqlite_insert (\n",
    "            id INTEGER PRIMARY KEY AUTOINCREMENT,\n",
    "            nome TEXT,\n",
    "            valor INTEGER\n",
    "        );\n",
    "        CREATE TABLE IF NOT EXISTS t_sqlite_insert_many (\n",
    "            id INTEGER PRIMARY KEY AUTOINCREMENT,\n",
    "            nome TEXT,\n",
    "            valor INTEGER\n",
    "        );\n",
    "        CREATE TABLE IF NOT EXISTS t_sqlite_insert_results (\n",
    "            id INTEGER PRIMARY KEY AUTOINCREMENT,\n",
    "            time real,\n",
    "            memori real,\n",
    "            cpu real,\n",
    "            nr_registros integer,\n",
    "            method text,\n",
    "            commit_type text CHECK(commit_type IN ('batch', 'per_row'))\n",
    "        );\n",
    "    \"\"\"\n",
    "    )\n",
    "    conexao.commit()\n",
    "    print(\"Tabelas criadas com sucesso.\")\n",
    "except Exception as e:\n",
    "    print(\"Erro: \", e)\n",
    "finally:\n",
    "    conexao.close()"
   ]
  },
  {
   "cell_type": "markdown",
   "metadata": {},
   "source": [
    "Banco de dados usado em SQLite, separado em 3 tabelas diferentes.\n",
    "\n",
    "- 1 para armazenar os resultados.\n",
    "- 2 para os diferentes tipos de insert (execute e execute_many)\n"
   ]
  },
  {
   "cell_type": "code",
   "execution_count": 12,
   "metadata": {},
   "outputs": [],
   "source": [
    "@medir_tempo\n",
    "def inserir_dados_execute(conexao, num_registros):\n",
    "    cursor = conexao.cursor()\n",
    "    cursor.execute(\"BEGIN TRANSACTION;\")\n",
    "    for _ in generator_range(num_registros, True):\n",
    "        nome = fake.name()\n",
    "        valor = random.randint(1, 1000000)\n",
    "        cursor.execute(\n",
    "            \"INSERT INTO t_sqlite_insert (nome, valor) VALUES (?, ?)\", (nome, valor)\n",
    "        )\n",
    "    conexao.commit()\n",
    "    return \"execute\", \"per_row\"\n",
    "\n",
    "\n",
    "@medir_tempo\n",
    "def inserir_dados_execute_many(conexao, num_registros):\n",
    "    cursor = conexao.cursor()\n",
    "    cursor.execute(\"BEGIN TRANSACTION;\")\n",
    "    lst_insert_many = list()\n",
    "    for _ in generator_range(num_registros, True):\n",
    "        nome = fake.name()\n",
    "        valor = random.randint(1, 1000000)\n",
    "        lst_insert_many.append((nome, valor))\n",
    "\n",
    "    cursor.executemany(\n",
    "        \"INSERT INTO t_sqlite_insert_many (nome, valor) VALUES (?, ?)\", lst_insert_many\n",
    "    )\n",
    "    conexao.commit()\n",
    "    return \"execute\", \"batch\""
   ]
  },
  {
   "cell_type": "markdown",
   "metadata": {},
   "source": [
    "Funções para inserir os dados de formas diferentes\n"
   ]
  },
  {
   "cell_type": "code",
   "execution_count": 13,
   "metadata": {},
   "outputs": [
    {
     "name": "stdout",
     "output_type": "stream",
     "text": [
      "Connection close\n"
     ]
    }
   ],
   "source": [
    "# Testando o script\n",
    "try:\n",
    "    conexao = sqlite3.connect(nome_banco)\n",
    "    for nr_insert in generator_range(test_range):\n",
    "        method, commit_type, tempo_total, memoria, cpu = inserir_dados_execute(\n",
    "            conexao, nr_insert\n",
    "        )\n",
    "\n",
    "        registrar_resultados(\n",
    "            tempo_total, memoria, cpu, nr_insert, method, commit_type, conexao\n",
    "        )\n",
    "except Exception as e:\n",
    "    print(e)\n",
    "finally:\n",
    "    conexao.close()\n",
    "    print(\"Connection close\")"
   ]
  },
  {
   "cell_type": "code",
   "execution_count": 14,
   "metadata": {},
   "outputs": [
    {
     "name": "stdout",
     "output_type": "stream",
     "text": [
      "Connection close\n"
     ]
    }
   ],
   "source": [
    "# Testando o script\n",
    "try:\n",
    "    conexao = sqlite3.connect(nome_banco)\n",
    "    for nr_insert in generator_range(test_range):\n",
    "        method, commit_type, tempo_total, memoria, cpu = inserir_dados_execute_many(\n",
    "            conexao, nr_insert\n",
    "        )\n",
    "\n",
    "        registrar_resultados(\n",
    "            tempo_total, memoria, cpu, nr_insert, method, commit_type, conexao\n",
    "        )\n",
    "except Exception as e:\n",
    "    print(e)\n",
    "finally:\n",
    "    conexao.close()\n",
    "    print(\"Connection close\")"
   ]
  },
  {
   "cell_type": "code",
   "execution_count": null,
   "metadata": {},
   "outputs": [
    {
     "name": "stdout",
     "output_type": "stream",
     "text": [
      "Conexão fechada com sucesso.\n"
     ]
    }
   ],
   "source": [
    "# loop for para inserir os dados seguindo uma progressão geométrica.\n",
    "try:\n",
    "    conexao = sqlite3.connect(nome_banco)\n",
    "\n",
    "    for nr_insert in generator_range(test_range):\n",
    "        method, commit_type, tempo_total, memoria, cpu = inserir_dados_execute(\n",
    "            conexao, nr_insert\n",
    "        )\n",
    "        registrar_resultados(\n",
    "            tempo_total, memoria, cpu, nr_insert, method, commit_type, conexao\n",
    "        )\n",
    "\n",
    "    for nr_insert in generator_range(test_range):\n",
    "        method, commit_type, tempo_total, memoria, cpu = inserir_dados_execute_many(\n",
    "            conexao, nr_insert\n",
    "        )\n",
    "        registrar_resultados(\n",
    "            tempo_total, memoria, cpu, nr_insert, method, commit_type, conexao\n",
    "        )\n",
    "\n",
    "except Exception as e:\n",
    "    print(\"ERRO:\", e)\n",
    "finally:\n",
    "    conexao.close()\n",
    "    print(\"Conexão fechada com sucesso.\")"
   ]
  },
  {
   "cell_type": "markdown",
   "metadata": {},
   "source": [
    "---\n",
    "Registros para testar a eficiencia de consulta em conforme aumenta o tamanho do banco de dados\n"
   ]
  },
  {
   "cell_type": "code",
   "execution_count": null,
   "metadata": {},
   "outputs": [
    {
     "name": "stdout",
     "output_type": "stream",
     "text": [
      "Tabelas criadas\n",
      "Conexão fechada com sucesso.\n"
     ]
    }
   ],
   "source": [
    "# Criar tabela\n",
    "try:\n",
    "    conexao = sqlite3.connect(nome_banco)\n",
    "    cursor = conexao.cursor()\n",
    "\n",
    "\n",
    "    cursor.executescript(\n",
    "        \"\"\"\n",
    "        create table if not exists t_sqlite_size(\n",
    "            id INTEGER PRIMARY KEY AUTOINCREMENT,\n",
    "            nome TEXT,\n",
    "            valor INTEGER\n",
    "        );\n",
    "        \n",
    "        create table if not exists t_sqlite_size_results(\n",
    "            id INTEGER PRIMARY KEY AUTOINCREMENT,\n",
    "            time real,\n",
    "            memori real,\n",
    "            cpu real,\n",
    "            nr_registros integer,\n",
    "            method text,\n",
    "            commit_type text,\n",
    "            data_base_size real\n",
    "        );\n",
    "        \"\"\"\n",
    "    )\n",
    "    cursor.execute(\"delete from t_sqlite_size\")\n",
    "\n",
    "    print(\"Tabelas criadas\")\n",
    "\n",
    "except Exception as e:\n",
    "    print(\"Erro: \", e)\n",
    "finally:\n",
    "    conexao.close()\n",
    "    print(\"Conexão fechada com sucesso.\")"
   ]
  },
  {
   "cell_type": "code",
   "execution_count": 79,
   "metadata": {},
   "outputs": [],
   "source": [
    "def tamanho_banco(nome_banco):\n",
    "    \"\"\"\n",
    "    Retorna o tamanho do arquivo do banco de dados SQLite.\n",
    "\n",
    "    Args:\n",
    "        nome_banco (str): Nome do arquivo do banco de dados.\n",
    "\n",
    "    Returns:\n",
    "        float: Tamanho do banco de dados em MB.\n",
    "    \"\"\"\n",
    "    tamanho_bytes = os.path.getsize(nome_banco)  # Obtém o tamanho em bytes\n",
    "    tamanho_mb = tamanho_bytes / (1024 * 1024)  # Converte para MB\n",
    "    return round(tamanho_mb, 4)  # Arredonda para 4 casas decimais\n",
    "\n",
    "\n",
    "@medir_tempo_select\n",
    "def contar_registros_t_size(conexao, tabela):\n",
    "    \"\"\"\n",
    "    Conta o número total de registros em uma tabela específica.\n",
    "\n",
    "    Args:\n",
    "        conexao (sqlite3.Connection): Conexão ativa com o banco de dados.\n",
    "        tabela (str): Nome da tabela a ser consultada.\n",
    "\n",
    "    Returns:\n",
    "        int: Quantidade total de registros na tabela.\n",
    "    \"\"\"\n",
    "    cursor = conexao.cursor()\n",
    "    cursor.execute(f\"SELECT COUNT(id) FROM {tabela};\")\n",
    "    total_registros = cursor.fetchone()\n",
    "    tamanho_bd = tamanho_banco(nome_banco)\n",
    "    return \"select\", total_registros[0], tamanho_bd\n",
    "\n",
    "\n",
    "@medir_tempo\n",
    "def inserir_dados_t_size(conexao, num_registros):\n",
    "    cursor = conexao.cursor()\n",
    "    cursor.execute(\"BEGIN TRANSACTION;\")\n",
    "    for _ in generator_range(num_registros, True):\n",
    "        nome = fake.name()\n",
    "        valor = random.randint(1, 1000000)\n",
    "        cursor.execute(\n",
    "            \"INSERT INTO t_sqlite_size (nome, valor) VALUES (?, ?)\", (nome, valor)\n",
    "        )\n",
    "    conexao.commit()\n",
    "    return \"insert\", \"per_row\"\n",
    "\n",
    "\n",
    "def registrar_resultados_t_size(\n",
    "    conexao, resultado_insert: tuple, resultado_select: tuple\n",
    "):\n",
    "    cursor = conexao.cursor()\n",
    "    cursor.execute(\n",
    "        f\"INSERT INTO t_sqlite_size_results (method, commit_type, time, memori, cpu) values (?,?,?,?,?)\",\n",
    "        resultado_insert,\n",
    "    )\n",
    "    cursor.execute(\n",
    "        f\"INSERT INTO t_sqlite_size_results (method, nr_registros, data_base_size, time, memori, cpu) values (?,?,?,?,?,?)\",\n",
    "        resultado_select,\n",
    "    )\n",
    "    conexao.commit()"
   ]
  },
  {
   "cell_type": "code",
   "execution_count": 87,
   "metadata": {},
   "outputs": [
    {
     "name": "stderr",
     "output_type": "stream",
     "text": [
      "Sucesso ao registrar: 14142it [13:02:10,  3.32s/it]"
     ]
    },
    {
     "name": "stdout",
     "output_type": "stream",
     "text": [
      "Conexão fechada com sucesso.\n"
     ]
    },
    {
     "name": "stderr",
     "output_type": "stream",
     "text": [
      "\n"
     ]
    }
   ],
   "source": [
    "# Criar tabela\n",
    "try:\n",
    "    conexao = sqlite3.connect(nome_banco)\n",
    "    for qtd_insert in tqdm(generator_range(10), desc=\"Sucesso ao registrar\"):\n",
    "        resultado_insert = inserir_dados_t_size(conexao, qtd_insert)\n",
    "        resultado_select = contar_registros_t_size(conexao, \"t_sqlite_size\")\n",
    "        registrar_resultados_t_size(\n",
    "            conexao,\n",
    "            resultado_insert=resultado_insert,\n",
    "            resultado_select=resultado_select,\n",
    "        )\n",
    "except Exception as e:\n",
    "    print(\"Erro: \", e)\n",
    "finally:\n",
    "    conexao.close()\n",
    "    print(\"Conexão fechada com sucesso.\")"
   ]
  }
 ],
 "metadata": {
  "kernelspec": {
   "display_name": "Python 3",
   "language": "python",
   "name": "python3"
  },
  "language_info": {
   "codemirror_mode": {
    "name": "ipython",
    "version": 3
   },
   "file_extension": ".py",
   "mimetype": "text/x-python",
   "name": "python",
   "nbconvert_exporter": "python",
   "pygments_lexer": "ipython3",
   "version": "3.13.0"
  }
 },
 "nbformat": 4,
 "nbformat_minor": 2
}
