{
 "cells": [
  {
   "cell_type": "code",
   "execution_count": 1,
   "metadata": {},
   "outputs": [],
   "source": [
    "# !pip install sqlite3\n",
    "# !pip install time\n",
    "# !pip install psutil\n",
    "# !pip install os\n",
    "# !pip install faker"
   ]
  },
  {
   "cell_type": "code",
   "execution_count": 2,
   "metadata": {},
   "outputs": [],
   "source": [
    "import sqlite3\n",
    "import time\n",
    "import random\n",
    "import psutil\n",
    "import os\n",
    "from faker import Faker\n",
    "fake = Faker(\"pt_br\")"
   ]
  },
  {
   "cell_type": "code",
   "execution_count": 3,
   "metadata": {},
   "outputs": [],
   "source": [
    "# Função para monitorar memória e CPU\n",
    "def monitorar_recursos():\n",
    "    \"\"\"\n",
    "    Retorna o uso de memória e CPU do sistema no momento da execução.\n",
    "\n",
    "    Returns:\n",
    "        memoria (float): Uso de memória em MB.\n",
    "        cpu (float): Uso da CPU em %.\n",
    "    \"\"\"\n",
    "    processo = psutil.Process(os.getpid())\n",
    "    memoria = processo.memory_info().rss / (1024 * 1024)  # Memória em MB\n",
    "    cpu = psutil.cpu_percent(interval=1)  # Uso de CPU em %\n",
    "    return memoria, cpu\n",
    "\n",
    "\n",
    "# Função para medir tempo de execução\n",
    "def medir_tempo(func):\n",
    "    \"\"\"\n",
    "    Decorador para medir o tempo de execução de uma função e monitorar o consumo de memória e CPU.\n",
    "\n",
    "    Args:\n",
    "        func (function): Função a ser medida.\n",
    "\n",
    "    Returns:\n",
    "        function: Retorna a função decorada com monitoramento de tempo e recursos.\n",
    "    \"\"\"\n",
    "\n",
    "    def wrapper(*args, **kwargs):\n",
    "        inicio = time.time()\n",
    "        method, commit_type = func(*args, **kwargs)\n",
    "        fim = time.time()\n",
    "        tempo_total = fim - inicio\n",
    "        memoria, cpu = monitorar_recursos()\n",
    "        return method, commit_type, tempo_total, memoria, cpu\n",
    "\n",
    "    return wrapper\n",
    "\n",
    "\n",
    "def registrar_resultados(\n",
    "    tempo_processamento: float,\n",
    "    memoria: float,\n",
    "    cpu: float,\n",
    "    nr_registros: int,\n",
    "    method: str,\n",
    "    commit_type: str,\n",
    "    conexao: sqlite3.Connection,\n",
    "):\n",
    "    \"\"\"\n",
    "    Registra os resultados de desempenho na tabela 'results'.\n",
    "\n",
    "    Args:\n",
    "        tempo_processamento (float): Tempo de execução da operação.\n",
    "        memoria (float): Uso de memória em MB.\n",
    "        cpu (float): Uso de CPU em %.\n",
    "        nr_registros (int): Número de registros inseridos.\n",
    "        method (str): Método de inserção ('execute' ou 'executemany').\n",
    "        commit_type (str): Tipo de commit ('batch' ou 'per_row').\n",
    "        conexao (sqlite3.Connection): Conexão ativa com o banco de dados.\n",
    "    \"\"\"\n",
    "    cursor_registro = conexao.cursor()\n",
    "    cursor_registro.execute(\n",
    "        \"insert into t_sqlite_insert_results (time, memori, cpu, nr_registros, method, commit_type) values (?,?,?,?,?,?)\",\n",
    "        (tempo_processamento, memoria, cpu, nr_registros, method, commit_type),\n",
    "    )\n",
    "    conexao.commit()\n",
    "\n",
    "\n",
    "# Contar registros\n",
    "def contar_registros(conexao):\n",
    "    cursor = conexao.cursor()\n",
    "    cursor.execute(\"SELECT COUNT(*) FROM t_sqlite_insert;\")\n",
    "    resultado = cursor.fetchone()\n",
    "    print(f\"Total de registros: {resultado[0]}\")\n",
    "\n",
    "\n",
    "# genarator numérico\n",
    "def generator_range(nr_range: int):\n",
    "    \"\"\"\n",
    "    Retorna um generator com o range começando em x + 1\n",
    "    Desta forma um range(10) começa em 1 e termina em 10\n",
    "    \"\"\"\n",
    "    return (x + 1 for x in range(nr_range))"
   ]
  },
  {
   "cell_type": "code",
   "execution_count": 4,
   "metadata": {},
   "outputs": [
    {
     "name": "stdout",
     "output_type": "stream",
     "text": [
      "Banco de dados 'sqlite_database.bd' criado.\n",
      "Tabelas criadas com sucesso.\n"
     ]
    }
   ],
   "source": [
    "nome_banco = \"sqlite_database.bd\"\n",
    "test_range = 10\n",
    "print(f\"Banco de dados '{nome_banco}' criado.\")\n",
    "try:\n",
    "    conexao = sqlite3.connect(nome_banco)\n",
    "    cursor = conexao.cursor()\n",
    "    cursor.executescript(\n",
    "        \"\"\"\n",
    "        CREATE TABLE IF NOT EXISTS t_sqlite_insert (\n",
    "            id INTEGER PRIMARY KEY AUTOINCREMENT,\n",
    "            nome TEXT,\n",
    "            valor INTEGER\n",
    "        );\n",
    "        CREATE TABLE IF NOT EXISTS t_sqlite_insert_many (\n",
    "            id INTEGER PRIMARY KEY AUTOINCREMENT,\n",
    "            nome TEXT,\n",
    "            valor INTEGER\n",
    "        );\n",
    "        CREATE TABLE IF NOT EXISTS t_sqlite_insert_results (\n",
    "            id INTEGER PRIMARY KEY AUTOINCREMENT,\n",
    "            time real,\n",
    "            memori real,\n",
    "            cpu real,\n",
    "            nr_registros integer,\n",
    "            method text,\n",
    "            commit_type text CHECK(commit_type IN ('batch', 'per_row'))\n",
    "        );\n",
    "    \"\"\"\n",
    "    )\n",
    "    conexao.commit()\n",
    "    print(\"Tabelas criadas com sucesso.\")\n",
    "except Exception as e:\n",
    "    print('Erro: ', e)\n",
    "finally:\n",
    "    conexao.close()"
   ]
  },
  {
   "cell_type": "markdown",
   "metadata": {},
   "source": [
    "Banco de dados usado em SQLite, separado em 3 tabelas diferentes.\n",
    "- 1 para armazenar os resultados.\n",
    "- 2 para os diferentes tipos de insert (execute e execute_many)\n",
    "\n",
    "---"
   ]
  },
  {
   "cell_type": "code",
   "execution_count": 12,
   "metadata": {},
   "outputs": [],
   "source": [
    "@medir_tempo\n",
    "def inserir_dados_execute(conexao, num_registros):\n",
    "    cursor = conexao.cursor()\n",
    "    cursor.execute(\"BEGIN TRANSACTION;\")\n",
    "    for _ in range(num_registros):\n",
    "        nome = fake.name()\n",
    "        valor = random.randint(1, 1000000)\n",
    "        cursor.execute(\"INSERT INTO t_sqlite_insert (nome, valor) VALUES (?, ?)\", (nome, valor))\n",
    "    conexao.commit()\n",
    "    return 'execute', 'per_row'\n",
    "\n",
    "@medir_tempo\n",
    "def inserir_dados_execute_many(conexao, num_registros):\n",
    "    cursor = conexao.cursor()\n",
    "    cursor.execute(\"BEGIN TRANSACTION;\")\n",
    "    lst_insert_many = list()\n",
    "    for _ in range(num_registros):\n",
    "        nome = fake.name()\n",
    "        valor = random.randint(1, 1000000)\n",
    "        lst_insert_many.append((nome, valor))\n",
    "        \n",
    "    cursor.executemany(\"INSERT INTO t_sqlite_insert_many (nome, valor) VALUES (?, ?)\", lst_insert_many)\n",
    "    conexao.commit()\n",
    "    return 'execute', 'batch'"
   ]
  },
  {
   "cell_type": "markdown",
   "metadata": {},
   "source": [
    "Funções para inserir os dados de formas diferentes\n",
    "\n",
    "---"
   ]
  },
  {
   "cell_type": "code",
   "execution_count": 6,
   "metadata": {},
   "outputs": [
    {
     "name": "stdout",
     "output_type": "stream",
     "text": [
      "Connection close\n"
     ]
    }
   ],
   "source": [
    "# Testando o script\n",
    "try:\n",
    "    conexao = sqlite3.connect(nome_banco)\n",
    "    for nr_insert in generator_range(test_range):\n",
    "        method, commit_type, tempo_total, memoria, cpu = inserir_dados_execute(\n",
    "            conexao, nr_insert\n",
    "        )\n",
    "\n",
    "        registrar_resultados(\n",
    "            tempo_total, memoria, cpu, nr_insert, method, commit_type, conexao\n",
    "        )\n",
    "except Exception as e:\n",
    "    print(e)\n",
    "finally:\n",
    "    conexao.close()\n",
    "    print(\"Connection close\")"
   ]
  },
  {
   "cell_type": "code",
   "execution_count": 13,
   "metadata": {},
   "outputs": [
    {
     "name": "stdout",
     "output_type": "stream",
     "text": [
      "Connection close\n"
     ]
    }
   ],
   "source": [
    "# Testando o script\n",
    "try:\n",
    "    conexao = sqlite3.connect(nome_banco)\n",
    "    for nr_insert in generator_range(test_range):\n",
    "        method, commit_type, tempo_total, memoria, cpu = inserir_dados_execute_many(\n",
    "            conexao, nr_insert\n",
    "        )\n",
    "\n",
    "        registrar_resultados(\n",
    "            tempo_total, memoria, cpu, nr_insert, method, commit_type, conexao\n",
    "        )\n",
    "except Exception as e:\n",
    "    print(e)\n",
    "finally:\n",
    "    conexao.close()\n",
    "    print(\"Connection close\")"
   ]
  },
  {
   "cell_type": "code",
   "execution_count": 8,
   "metadata": {},
   "outputs": [
    {
     "name": "stdout",
     "output_type": "stream",
     "text": [
      "ERRO: no such table: t_sqlite_insert_batch\n",
      "Conexão fechada com sucesso.\n"
     ]
    }
   ],
   "source": [
    "try:\n",
    "    conexao = sqlite3.connect(nome_banco)\n",
    "\n",
    "    for nr_insert in generator_range(test_range):\n",
    "        method, commit_type, tempo_total, memoria, cpu = inserir_dados_execute(conexao, nr_insert)\n",
    "        registrar_resultados(tempo_total, memoria, cpu, nr_insert, method, commit_type, conexao)\n",
    "\n",
    "    for nr_insert in generator_range(test_range):\n",
    "        method, commit_type, tempo_total, memoria, cpu = inserir_dados_execute_many(conexao, nr_insert)\n",
    "        registrar_resultados(tempo_total, memoria, cpu, nr_insert, method, commit_type, conexao)\n",
    "\n",
    "except Exception as e:\n",
    "    print(\"ERRO:\", e)\n",
    "finally:\n",
    "    conexao.close()\n",
    "    print(\"Conexão fechada com sucesso.\")\n"
   ]
  },
  {
   "cell_type": "markdown",
   "metadata": {},
   "source": [
    "loop for para inserir os dados seguindo uma progressão geométrica.\n",
    "\n",
    "---"
   ]
  },
  {
   "cell_type": "code",
   "execution_count": 9,
   "metadata": {},
   "outputs": [
    {
     "data": {
      "text/plain": [
       "(75.3984375, 29.3)"
      ]
     },
     "execution_count": 9,
     "metadata": {},
     "output_type": "execute_result"
    }
   ],
   "source": [
    "monitorar_recursos()"
   ]
  },
  {
   "cell_type": "code",
   "execution_count": 10,
   "metadata": {},
   "outputs": [
    {
     "name": "stdout",
     "output_type": "stream",
     "text": [
      "Resultados da consulta: [(590008, 294656402851)]\n"
     ]
    }
   ],
   "source": [
    "# %%\n",
    "with sqlite3.connect(nome_banco) as conexao:\n",
    "    cursor = conexao.cursor()\n",
    "    cursor.execute(\n",
    "        \"SELECT COUNT(nome) AS contagem_nome, SUM(valor) AS soma_valor FROM t_sqlite_insert WHERE nome LIKE 'F%'\"\n",
    "    )\n",
    "    resultado = cursor.fetchall()\n",
    "\n",
    "print(\"Resultados da consulta:\", resultado)"
   ]
  }
 ],
 "metadata": {
  "kernelspec": {
   "display_name": "Python 3",
   "language": "python",
   "name": "python3"
  },
  "language_info": {
   "codemirror_mode": {
    "name": "ipython",
    "version": 3
   },
   "file_extension": ".py",
   "mimetype": "text/x-python",
   "name": "python",
   "nbconvert_exporter": "python",
   "pygments_lexer": "ipython3",
   "version": "3.13.0"
  }
 },
 "nbformat": 4,
 "nbformat_minor": 2
}
