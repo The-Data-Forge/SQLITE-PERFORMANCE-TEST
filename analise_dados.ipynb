{
 "cells": [
  {
   "cell_type": "code",
   "execution_count": null,
   "metadata": {},
   "outputs": [],
   "source": [
    "# !pip install sqlite3\n",
    "# !pip install time\n",
    "# !pip install psutil\n",
    "# !pip install os\n",
    "# !pip install tqdm"
   ]
  },
  {
   "cell_type": "code",
   "execution_count": 17,
   "metadata": {},
   "outputs": [],
   "source": [
    "import sqlite3\n",
    "import time\n",
    "import psutil\n",
    "import os\n",
    "from tqdm import tqdm\n",
    "import pandas as pd\n",
    "import numpy as np"
   ]
  },
  {
   "cell_type": "code",
   "execution_count": 19,
   "metadata": {},
   "outputs": [
    {
     "name": "stdout",
     "output_type": "stream",
     "text": [
      "Consulta ao banco de dados realizada\n",
      "connection closed\n"
     ]
    }
   ],
   "source": [
    "nm_banco_dados = \"sqlite_database.bd\"\n",
    "\n",
    "try:\n",
    "    connection = sqlite3.connect(nm_banco_dados)\n",
    "\n",
    "    df_insert_results = pd.read_sql_query(\"select * from t_sqlite_insert_results\", con=connection)\n",
    "    df_size_results = pd.read_sql_query(\"select * from t_sqlite_size_results\", con=connection)\n",
    "    print('Consulta ao banco de dados realizada')\n",
    "except Exception as e:\n",
    "    print(\"Erro: \", e)\n",
    "finally:\n",
    "    connection.close()\n",
    "    print(\"connection closed\")"
   ]
  },
  {
   "cell_type": "code",
   "execution_count": 21,
   "metadata": {},
   "outputs": [
    {
     "name": "stdout",
     "output_type": "stream",
     "text": [
      "<class 'pandas.core.frame.DataFrame'>\n",
      "RangeIndex: 20870 entries, 0 to 20869\n",
      "Data columns (total 7 columns):\n",
      " #   Column        Non-Null Count  Dtype  \n",
      "---  ------        --------------  -----  \n",
      " 0   id            20870 non-null  int64  \n",
      " 1   time          20870 non-null  float64\n",
      " 2   memori        20870 non-null  float64\n",
      " 3   cpu           20870 non-null  float64\n",
      " 4   nr_registros  20870 non-null  int64  \n",
      " 5   method        20870 non-null  object \n",
      " 6   commit_type   20870 non-null  object \n",
      "dtypes: float64(3), int64(2), object(2)\n",
      "memory usage: 1.1+ MB\n"
     ]
    }
   ],
   "source": [
    "df_insert_results.info()"
   ]
  },
  {
   "cell_type": "code",
   "execution_count": 22,
   "metadata": {},
   "outputs": [
    {
     "name": "stdout",
     "output_type": "stream",
     "text": [
      "<class 'pandas.core.frame.DataFrame'>\n",
      "RangeIndex: 28334 entries, 0 to 28333\n",
      "Data columns (total 8 columns):\n",
      " #   Column          Non-Null Count  Dtype  \n",
      "---  ------          --------------  -----  \n",
      " 0   id              28334 non-null  int64  \n",
      " 1   time            28334 non-null  float64\n",
      " 2   memori          28334 non-null  float64\n",
      " 3   cpu             28334 non-null  float64\n",
      " 4   nr_registros    14167 non-null  float64\n",
      " 5   method          28334 non-null  object \n",
      " 6   commit_type     14167 non-null  object \n",
      " 7   data_base_size  14167 non-null  float64\n",
      "dtypes: float64(5), int64(1), object(2)\n",
      "memory usage: 1.7+ MB\n"
     ]
    }
   ],
   "source": [
    "df_size_results.info()"
   ]
  },
  {
   "cell_type": "code",
   "execution_count": null,
   "metadata": {},
   "outputs": [],
   "source": []
  }
 ],
 "metadata": {
  "kernelspec": {
   "display_name": "Python 3",
   "language": "python",
   "name": "python3"
  },
  "language_info": {
   "codemirror_mode": {
    "name": "ipython",
    "version": 3
   },
   "file_extension": ".py",
   "mimetype": "text/x-python",
   "name": "python",
   "nbconvert_exporter": "python",
   "pygments_lexer": "ipython3",
   "version": "3.13.0"
  }
 },
 "nbformat": 4,
 "nbformat_minor": 2
}
